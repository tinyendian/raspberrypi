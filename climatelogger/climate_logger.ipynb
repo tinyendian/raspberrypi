{
 "cells": [
  {
   "cell_type": "markdown",
   "metadata": {},
   "source": [
    "# Building a Climate Logger with the Raspberry Pi Sense Hat"
   ]
  },
  {
   "cell_type": "markdown",
   "metadata": {},
   "source": [
    "Build a simple climate logger using Raspberry Pi with Sense Hat. The logger reads temperature, humidity, and pressure from the sensors, corrects them for heat output from the Raspberry Pi, and stores the data in a sqlite3 database."
   ]
  },
  {
   "cell_type": "code",
   "execution_count": 30,
   "metadata": {
    "collapsed": true
   },
   "outputs": [],
   "source": [
    "from sense_hat import SenseHat\n",
    "import time\n",
    "from datetime import datetime\n",
    "import math\n",
    "import sqlite3 as sqlite\n",
    "import types"
   ]
  },
  {
   "cell_type": "markdown",
   "metadata": {
    "collapsed": true
   },
   "source": [
    "## Physics\n",
    "\n",
    "### Saturation vapor pressure\n",
    "Function \"buck_vapor_pressure\" uses Buck's formula (equation 8 in [Buck, 1981](http://www.public.iastate.edu/~bkh/teaching/505/arden_buck_sat.pdf)) to compute [saturation pressure](https://en.wikipedia.org/wiki/Vapor_pressure) $P^*_{vapor}$ (in hPa) for water vapor in moist air at temperature $T$ (in °C) and air pressure $P_{air}$ (in hPa):\n",
    "\\begin{equation}\n",
    "P_{vapor}^* = \\left(1.0007+3.46\\cdot10^{-6}P_{air}\\right)\\cdot 6.1121\\exp\\left(\\frac{17.502T}{240.97 +T}\\right)\n",
    "\\end{equation}\n",
    "The equation is valid in the temperature range from -20 °C to 50 °C."
   ]
  },
  {
   "cell_type": "code",
   "execution_count": 31,
   "metadata": {
    "collapsed": false
   },
   "outputs": [],
   "source": [
    "def buck_vapor_pressure(air_pressure, temperature):\n",
    "\n",
    "    buck_constants = [1.0007, 3.46e-6, 6.1121, 17.502, 240.97]\n",
    "\n",
    "    assert air_pressure > 0, \"buck_vapor_pressure: negative input air pressure\"\n",
    "    assert temperature >= -20, \"buck_vapor_pressure: temperature below validity range\"\n",
    "    assert temperature <= 50, \"buck_vapor_pressure: temperature above validity range\"\n",
    "\n",
    "    enhancement_factor = buck_constants[0] + buck_constants[1]*air_pressure\n",
    "    temperature_exponent = buck_constants[3]*temperature/(buck_constants[4]+temperature)\n",
    "\n",
    "    vapor_pressure = enhancement_factor*buck_constants[2]*math.exp(temperature_exponent)\n",
    "\n",
    "    assert vapor_pressure > 0, \"buck_vapor_pressure: negative output vapor pressure\"\n",
    "\n",
    "    return (vapor_pressure)"
   ]
  },
  {
   "cell_type": "markdown",
   "metadata": {},
   "source": [
    "### Correction of temperature measurement\n",
    "Temperatures are measured inside the enclosure of the Sense Hat and Raspberry Pi. They are heavily influenced by heat generated in the circuitry of the Pi and the Hat and are thus higher than ambient temperature; measured temperatures will depend both on heat input and ambient temperature.\n",
    "\n",
    "The releationship between $T_{meas}$ and $T_{ambient}$ is close to linear. Fit coefficients for a linear law to determine $T_{ambient}$ from $T_{meas}$ can easily be found by measuring temperature pairs using a second (accurate) thermometer. Note that the Pi and Sense Hat need about 30 min - 45 min to reach stable temperature. Heat generation by the circuitry also depends on processor load; temperature should thus be measured while the Climate Logger program is running."
   ]
  },
  {
   "cell_type": "code",
   "execution_count": 32,
   "metadata": {
    "collapsed": true
   },
   "outputs": [],
   "source": [
    "def ambient_temperature(measured_temperature):\n",
    "\n",
    "    a_fit = 0.8542\n",
    "    b_fit = -9.675\n",
    "\n",
    "    ambient_temperature = a_fit*measured_temperature + b_fit\n",
    "\n",
    "    return (ambient_temperature)"
   ]
  },
  {
   "cell_type": "markdown",
   "metadata": {},
   "source": [
    "### Correction of pressure measurement\n",
    "Air can easily enter and leave the enclosure of the Raspberry Pi and Sense hat - no correction required."
   ]
  },
  {
   "cell_type": "code",
   "execution_count": 33,
   "metadata": {
    "collapsed": true
   },
   "outputs": [],
   "source": [
    "def ambient_pressure(measured_pressure):\n",
    "    return (measured_pressure)"
   ]
  },
  {
   "cell_type": "markdown",
   "metadata": {},
   "source": [
    "### Correction of relative humidity measurement\n",
    "\n",
    "Relative humidity is defined as the ratio of actual vapor pressure and saturation vapor pressure:\n",
    "\\begin{equation}\n",
    "RH = \\frac{P_{vapor}}{P_{vapor}^*}\n",
    "\\end{equation}\n",
    "Just like air, water vapor can easily enter and leave the enclosure of the Raspberry Pi and Sense Hat. The heating effect of the Raspberry Pi is thus an isobaric process, and $P_{Water}$ is the same inside the enclosure and outside.\n",
    "\n",
    "We can therefore correct relative humidity measurement by computing saturation vapor pressure for the temperature inside the enclosure and outside. Multiplying $RH_{meas}$ by saturation pressure at temperature $T_{meas}$ and air pressure $P_{meas}$ yields $P_{vapor}$; dividing again by saturation pressure at ambient conditions yields $RH_{ambient}$:\n",
    "\\begin{equation}\n",
    "RH_{ambient} = RH_{meas}\\frac{P_{vapor}^*(T_{meas}, P_{meas})}{P_{vapor}^*(T_{ambient}, P_{meas})}\n",
    "\\end{equation}"
   ]
  },
  {
   "cell_type": "code",
   "execution_count": 34,
   "metadata": {
    "collapsed": true
   },
   "outputs": [],
   "source": [
    "def ambient_humidity(measured_humidity, measured_temperature, measured_pressure,\n",
    "                     ambient_temperature, ambient_pressure):\n",
    "\n",
    "    inside_vapor_pressure = buck_vapor_pressure(measured_pressure, measured_temperature)\n",
    "    ambient_vapor_pressure = buck_vapor_pressure(ambient_pressure, ambient_temperature)\n",
    "\n",
    "    ambient_humidity = measured_humidity*inside_vapor_pressure/ambient_vapor_pressure\n",
    "\n",
    "    return (ambient_humidity)"
   ]
  },
  {
   "cell_type": "markdown",
   "metadata": {},
   "source": [
    "## Sensor class\n",
    "\n",
    "Define new class \"Sensor\" that handles sensor reads and measurement corrections.\n",
    "\n",
    "The \"update\" method reads humidity, temperature (from humidity sensor), and pressure, and gets a UTC time stamp for the measurement from systemclock. It then calls the correction function."
   ]
  },
  {
   "cell_type": "code",
   "execution_count": 35,
   "metadata": {
    "collapsed": false
   },
   "outputs": [],
   "source": [
    "class Sensor:\n",
    "    def __init__(self):\n",
    "        self.sense = SenseHat()\n",
    "        self.sense.clear()\n",
    "        self.timestamp_fmt = \"%Y-%m-%d %H:%M:%S\"\n",
    "        self.measurement_interval = 30.\n",
    "\n",
    "        # Read sensor values ones to make sure that they are available for recording\n",
    "        test = self.sense.get_humidity()\n",
    "        test = self.sense.get_temperature_from_humidity()\n",
    "        test = self.sense.get_pressure()\n",
    "\n",
    "        # Say hello\n",
    "        self.sense.show_message(\"Starting up...\")\n",
    "\n",
    "    def compute_ambient_values(self):\n",
    "        self.ambient_temperature = ambient_temperature(self.measured_temperature)\n",
    "        self.ambient_pressure = ambient_pressure(self.measured_pressure)\n",
    "        self.ambient_humidity = ambient_humidity(self.measured_humidity, self.measured_temperature,\n",
    "                                                 self.measured_pressure, self.ambient_temperature,\n",
    "                                                 self.ambient_pressure)\n",
    "\n",
    "    def update(self):\n",
    "\n",
    "        self.measured_humidity = self.sense.get_humidity()\n",
    "        assert self.measured_humidity >= 0., \"Sensor.update: humidity < 0% received from sensor.\"\n",
    "        assert self.measured_humidity <= 100., \"Sensor.update: humidity > 100% received from sensor.\"\n",
    "\n",
    "        self.measured_temperature = self.sense.get_temperature_from_humidity()\n",
    "        assert self.measured_temperature >= 0., \"Sensor.update: temperature < 0 °C received from sensor.\"\n",
    "        assert self.measured_temperature <= 65., \"Sensor.update: temperature > 65 °C received from sensor.\"\n",
    "\n",
    "        self.measured_pressure = self.sense.get_pressure()\n",
    "        assert self.measured_pressure >= 260., \"Sensor.update: pressure < 260 hPa received from sensor.\"\n",
    "        assert self.measured_pressure <= 1260., \"Sensor.update: pressure > 1260 hPa received from sensor.\"\n",
    "\n",
    "        self.timestamp = datetime.utcnow().strftime(self.timestamp_fmt)\n",
    "\n",
    "        self.compute_ambient_values()\n",
    "\n",
    "    def wait(self):\n",
    "        time.sleep(self.measurement_interval)"
   ]
  },
  {
   "cell_type": "markdown",
   "metadata": {},
   "source": [
    "## Class ClimateDB\n",
    "\n",
    "The class creates a table \"ClimateRecord\" in a sqlite3 database file and writes measurement records with timestamps."
   ]
  },
  {
   "cell_type": "code",
   "execution_count": 36,
   "metadata": {
    "collapsed": false
   },
   "outputs": [],
   "source": [
    "class ClimateDB():\n",
    "\n",
    "    def __init__(self, dbfile=None):\n",
    "        \n",
    "        assert dbfile != None, \"ClimateDB: need path to database file.\"\n",
    "        \n",
    "        self.dbfile = dbfile\n",
    "        conn = sqlite.connect(self.dbfile)\n",
    "        cur = conn.cursor()\n",
    "        cur.execute(\n",
    "        \"\"\"\n",
    "        CREATE TABLE IF NOT EXISTS ClimateRecord (TimeStamp TEXT, Humidity REAL,\n",
    "        Temperature REAL, Pressure REAL)\n",
    "        \"\"\"\n",
    "        )\n",
    "        conn.close()\n",
    "    \n",
    "    def write(self, timestamp, humidity, temperature, pressure):\n",
    "\n",
    "        assert type(timestamp) is types.StringType, \"ClimateDB.write: timestamp is not a string\"\n",
    "        assert type(humidity) is types.FloatType, \"ClimateDB.write: humidity is not a number\"\n",
    "        assert type(temperature) is types.FloatType, \"ClimateDB.write: temperature is not a number\"\n",
    "        assert type(pressure) is types.FloatType, \"ClimateDB.write: pressure is not a number\"\n",
    "\n",
    "        values = (timestamp, humidity, temperature, pressure)\n",
    "\n",
    "        conn = sqlite.connect(self.dbfile)\n",
    "        cur = conn.cursor()\n",
    "        cur.execute(\"INSERT INTO ClimateRecord VALUES(?,?,?,?)\",\n",
    "                values)\n",
    "        conn.commit()\n",
    "        conn.close()"
   ]
  },
  {
   "cell_type": "markdown",
   "metadata": {},
   "source": [
    "## Main function\n",
    "\n",
    "The main function initialises the Sense Hat and output database. It then enters an infinite loop and writes climate records in fixed time intervals."
   ]
  },
  {
   "cell_type": "code",
   "execution_count": null,
   "metadata": {
    "collapsed": false
   },
   "outputs": [],
   "source": [
    "if __name__ == \"__main__\":\n",
    "    \n",
    "    ClimateMeas = Sensor()\n",
    "    CliDB = ClimateDB(\"/home/pi/Documents/roomclimate.db\")\n",
    "\n",
    "    while True:\n",
    "        ClimateMeas.update()\n",
    "        CliDB.write(ClimateMeas.timestamp,\n",
    "                    ClimateMeas.ambient_humidity,\n",
    "                    ClimateMeas.ambient_temperature,\n",
    "                    ClimateMeas.ambient_pressure)\n",
    "        ClimateMeas.wait()"
   ]
  }
 ],
 "metadata": {
  "kernelspec": {
   "display_name": "Python 2",
   "language": "python",
   "name": "python2"
  },
  "language_info": {
   "codemirror_mode": {
    "name": "ipython",
    "version": 2
   },
   "file_extension": ".py",
   "mimetype": "text/x-python",
   "name": "python",
   "nbconvert_exporter": "python",
   "pygments_lexer": "ipython2",
   "version": "2.7.9"
  }
 },
 "nbformat": 4,
 "nbformat_minor": 0
}
